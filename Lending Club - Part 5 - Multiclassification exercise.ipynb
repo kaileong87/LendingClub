{
 "cells": [
  {
   "cell_type": "markdown",
   "id": "d42d2fad",
   "metadata": {},
   "source": [
    "### Lending Club - Part 5 - Project Goal 3.\n",
    "\n",
    "Project Goals:\n",
    "1. At loan origination: is my model able to predict if a customer will fully pay off their debt or will they incur a charge off\n",
    "2. Multiclassification exercise: the objective of the second part is to get experience with multiclassification."
   ]
  },
  {
   "cell_type": "code",
   "execution_count": 1,
   "id": "1030f2bd",
   "metadata": {},
   "outputs": [],
   "source": [
    "import pandas as pd\n",
    "import numpy as np\n",
    "import matplotlib.pyplot as plt\n",
    "import seaborn as sns\n",
    "import joblib\n",
    "\n",
    "from sklearn.metrics import confusion_matrix, accuracy_score, recall_score, precision_score\n",
    "from datetime import datetime\n",
    "from sklearn.pipeline import Pipeline\n",
    "from sklearn.utils.class_weight import compute_class_weight\n",
    "\n",
    "from sklearn.kernel_approximation import Nystroem\n",
    "from sklearn.decomposition import PCA\n",
    "\n",
    "from sklearn.neighbors import KNeighborsClassifier\n",
    "from sklearn.svm import SVC\n",
    "from sklearn.naive_bayes import MultinomialNB, GaussianNB\n",
    "from sklearn.linear_model import LogisticRegression\n",
    "from sklearn.ensemble import RandomForestClassifier\n",
    "from sklearn.ensemble import AdaBoostClassifier, GradientBoostingClassifier\n",
    "\n",
    "from tensorflow.keras.models import load_model\n",
    "import tensorflow as tf\n",
    "from tensorflow.keras.models import Sequential\n",
    "from tensorflow.keras.layers import Dense, Activation,Dropout\n",
    "from tensorflow.keras.callbacks import EarlyStopping\n",
    "\n",
    "from sklearn.model_selection import train_test_split, GridSearchCV, StratifiedShuffleSplit\n",
    "from sklearn.preprocessing import MinMaxScaler, StandardScaler\n",
    "from sklearn.metrics import plot_confusion_matrix, classification_report\n",
    "from sklearn.metrics import plot_precision_recall_curve, plot_roc_curve"
   ]
  },
  {
   "cell_type": "code",
   "execution_count": 2,
   "id": "d2382fa1",
   "metadata": {},
   "outputs": [],
   "source": [
    "df = pd.read_csv('./lendingclub_processed.csv')"
   ]
  },
  {
   "cell_type": "code",
   "execution_count": 3,
   "id": "dfcb3be5",
   "metadata": {},
   "outputs": [],
   "source": [
    "df = df.drop('Unnamed: 0', axis=1)"
   ]
  },
  {
   "cell_type": "code",
   "execution_count": 4,
   "id": "9fd80ac5",
   "metadata": {},
   "outputs": [
    {
     "data": {
      "text/html": [
       "<div>\n",
       "<style scoped>\n",
       "    .dataframe tbody tr th:only-of-type {\n",
       "        vertical-align: middle;\n",
       "    }\n",
       "\n",
       "    .dataframe tbody tr th {\n",
       "        vertical-align: top;\n",
       "    }\n",
       "\n",
       "    .dataframe thead th {\n",
       "        text-align: right;\n",
       "    }\n",
       "</style>\n",
       "<table border=\"1\" class=\"dataframe\">\n",
       "  <thead>\n",
       "    <tr style=\"text-align: right;\">\n",
       "      <th></th>\n",
       "      <th>loan_amnt</th>\n",
       "      <th>funded_amnt_inv</th>\n",
       "      <th>term</th>\n",
       "      <th>int_rate</th>\n",
       "      <th>installment</th>\n",
       "      <th>annual_inc</th>\n",
       "      <th>loan_status</th>\n",
       "      <th>dti</th>\n",
       "      <th>delinq_2yrs</th>\n",
       "      <th>fico_range_high</th>\n",
       "      <th>...</th>\n",
       "      <th>SD</th>\n",
       "      <th>TN</th>\n",
       "      <th>TX</th>\n",
       "      <th>UT</th>\n",
       "      <th>VA</th>\n",
       "      <th>VT</th>\n",
       "      <th>WA</th>\n",
       "      <th>WI</th>\n",
       "      <th>WV</th>\n",
       "      <th>WY</th>\n",
       "    </tr>\n",
       "  </thead>\n",
       "  <tbody>\n",
       "    <tr>\n",
       "      <th>0</th>\n",
       "      <td>3600.0</td>\n",
       "      <td>3600.0</td>\n",
       "      <td>36</td>\n",
       "      <td>13.99</td>\n",
       "      <td>123.03</td>\n",
       "      <td>55000.0</td>\n",
       "      <td>Fully Paid</td>\n",
       "      <td>5.91</td>\n",
       "      <td>0.0</td>\n",
       "      <td>679.0</td>\n",
       "      <td>...</td>\n",
       "      <td>0</td>\n",
       "      <td>0</td>\n",
       "      <td>0</td>\n",
       "      <td>0</td>\n",
       "      <td>0</td>\n",
       "      <td>0</td>\n",
       "      <td>0</td>\n",
       "      <td>0</td>\n",
       "      <td>0</td>\n",
       "      <td>0</td>\n",
       "    </tr>\n",
       "    <tr>\n",
       "      <th>1</th>\n",
       "      <td>24700.0</td>\n",
       "      <td>24700.0</td>\n",
       "      <td>36</td>\n",
       "      <td>11.99</td>\n",
       "      <td>820.28</td>\n",
       "      <td>65000.0</td>\n",
       "      <td>Fully Paid</td>\n",
       "      <td>16.06</td>\n",
       "      <td>1.0</td>\n",
       "      <td>719.0</td>\n",
       "      <td>...</td>\n",
       "      <td>1</td>\n",
       "      <td>0</td>\n",
       "      <td>0</td>\n",
       "      <td>0</td>\n",
       "      <td>0</td>\n",
       "      <td>0</td>\n",
       "      <td>0</td>\n",
       "      <td>0</td>\n",
       "      <td>0</td>\n",
       "      <td>0</td>\n",
       "    </tr>\n",
       "    <tr>\n",
       "      <th>2</th>\n",
       "      <td>20000.0</td>\n",
       "      <td>20000.0</td>\n",
       "      <td>60</td>\n",
       "      <td>10.78</td>\n",
       "      <td>432.66</td>\n",
       "      <td>63000.0</td>\n",
       "      <td>Fully Paid</td>\n",
       "      <td>10.78</td>\n",
       "      <td>0.0</td>\n",
       "      <td>699.0</td>\n",
       "      <td>...</td>\n",
       "      <td>0</td>\n",
       "      <td>0</td>\n",
       "      <td>0</td>\n",
       "      <td>0</td>\n",
       "      <td>0</td>\n",
       "      <td>0</td>\n",
       "      <td>0</td>\n",
       "      <td>0</td>\n",
       "      <td>0</td>\n",
       "      <td>0</td>\n",
       "    </tr>\n",
       "    <tr>\n",
       "      <th>3</th>\n",
       "      <td>35000.0</td>\n",
       "      <td>35000.0</td>\n",
       "      <td>60</td>\n",
       "      <td>14.85</td>\n",
       "      <td>829.90</td>\n",
       "      <td>110000.0</td>\n",
       "      <td>Current</td>\n",
       "      <td>17.06</td>\n",
       "      <td>0.0</td>\n",
       "      <td>789.0</td>\n",
       "      <td>...</td>\n",
       "      <td>0</td>\n",
       "      <td>0</td>\n",
       "      <td>0</td>\n",
       "      <td>0</td>\n",
       "      <td>0</td>\n",
       "      <td>0</td>\n",
       "      <td>0</td>\n",
       "      <td>0</td>\n",
       "      <td>0</td>\n",
       "      <td>0</td>\n",
       "    </tr>\n",
       "    <tr>\n",
       "      <th>4</th>\n",
       "      <td>10400.0</td>\n",
       "      <td>10400.0</td>\n",
       "      <td>60</td>\n",
       "      <td>22.45</td>\n",
       "      <td>289.91</td>\n",
       "      <td>104433.0</td>\n",
       "      <td>Fully Paid</td>\n",
       "      <td>25.37</td>\n",
       "      <td>1.0</td>\n",
       "      <td>699.0</td>\n",
       "      <td>...</td>\n",
       "      <td>0</td>\n",
       "      <td>0</td>\n",
       "      <td>0</td>\n",
       "      <td>0</td>\n",
       "      <td>0</td>\n",
       "      <td>0</td>\n",
       "      <td>0</td>\n",
       "      <td>0</td>\n",
       "      <td>0</td>\n",
       "      <td>0</td>\n",
       "    </tr>\n",
       "  </tbody>\n",
       "</table>\n",
       "<p>5 rows × 124 columns</p>\n",
       "</div>"
      ],
      "text/plain": [
       "   loan_amnt  funded_amnt_inv  term  int_rate  installment  annual_inc  \\\n",
       "0     3600.0           3600.0    36     13.99       123.03     55000.0   \n",
       "1    24700.0          24700.0    36     11.99       820.28     65000.0   \n",
       "2    20000.0          20000.0    60     10.78       432.66     63000.0   \n",
       "3    35000.0          35000.0    60     14.85       829.90    110000.0   \n",
       "4    10400.0          10400.0    60     22.45       289.91    104433.0   \n",
       "\n",
       "  loan_status    dti  delinq_2yrs  fico_range_high  ...  SD  TN  TX  UT  VA  \\\n",
       "0  Fully Paid   5.91          0.0            679.0  ...   0   0   0   0   0   \n",
       "1  Fully Paid  16.06          1.0            719.0  ...   1   0   0   0   0   \n",
       "2  Fully Paid  10.78          0.0            699.0  ...   0   0   0   0   0   \n",
       "3     Current  17.06          0.0            789.0  ...   0   0   0   0   0   \n",
       "4  Fully Paid  25.37          1.0            699.0  ...   0   0   0   0   0   \n",
       "\n",
       "   VT  WA  WI  WV  WY  \n",
       "0   0   0   0   0   0  \n",
       "1   0   0   0   0   0  \n",
       "2   0   0   0   0   0  \n",
       "3   0   0   0   0   0  \n",
       "4   0   0   0   0   0  \n",
       "\n",
       "[5 rows x 124 columns]"
      ]
     },
     "execution_count": 4,
     "metadata": {},
     "output_type": "execute_result"
    }
   ],
   "source": [
    "df.head()"
   ]
  },
  {
   "cell_type": "code",
   "execution_count": 5,
   "id": "58233743",
   "metadata": {},
   "outputs": [
    {
     "data": {
      "text/plain": [
       "array(['Fully Paid', 'Current', 'Charged Off'], dtype=object)"
      ]
     },
     "execution_count": 5,
     "metadata": {},
     "output_type": "execute_result"
    }
   ],
   "source": [
    "df['loan_status'].unique()"
   ]
  },
  {
   "cell_type": "code",
   "execution_count": 6,
   "id": "007430dd",
   "metadata": {},
   "outputs": [],
   "source": [
    "df['loan_status'] = df['loan_status'].map({'Fully Paid': 2, 'Current': 1, 'Charged Off': 0})"
   ]
  },
  {
   "cell_type": "markdown",
   "id": "65528aba",
   "metadata": {},
   "source": [
    "Train, Validation, Test split"
   ]
  },
  {
   "cell_type": "code",
   "execution_count": 7,
   "id": "6d177215",
   "metadata": {},
   "outputs": [],
   "source": [
    "X = df.drop('loan_status', axis=1)\n",
    "y = df['loan_status']"
   ]
  },
  {
   "cell_type": "code",
   "execution_count": 8,
   "id": "398f891b",
   "metadata": {},
   "outputs": [],
   "source": [
    "X_train, X_test, y_train, y_test = train_test_split(X, y, test_size=0.30, random_state=42)"
   ]
  },
  {
   "cell_type": "code",
   "execution_count": 9,
   "id": "0ce61526",
   "metadata": {},
   "outputs": [],
   "source": [
    "X_val, X_test, y_val, y_test = train_test_split(X_test, y_test, test_size=0.50, random_state=42)"
   ]
  },
  {
   "cell_type": "code",
   "execution_count": 10,
   "id": "bb48ff15",
   "metadata": {},
   "outputs": [
    {
     "data": {
      "text/plain": [
       "0.6999996846180567"
      ]
     },
     "execution_count": 10,
     "metadata": {},
     "output_type": "execute_result"
    }
   ],
   "source": [
    "len(X_train)/len(df)"
   ]
  },
  {
   "cell_type": "code",
   "execution_count": 11,
   "id": "d52e13ab",
   "metadata": {},
   "outputs": [
    {
     "data": {
      "text/plain": [
       "0.15000015769097166"
      ]
     },
     "execution_count": 11,
     "metadata": {},
     "output_type": "execute_result"
    }
   ],
   "source": [
    "len(X_val)/len(df)"
   ]
  },
  {
   "cell_type": "code",
   "execution_count": 12,
   "id": "440b672c",
   "metadata": {},
   "outputs": [
    {
     "data": {
      "text/plain": [
       "0.15000015769097166"
      ]
     },
     "execution_count": 12,
     "metadata": {},
     "output_type": "execute_result"
    }
   ],
   "source": [
    "len(X_test)/len(df)"
   ]
  },
  {
   "cell_type": "markdown",
   "id": "f60d3183",
   "metadata": {},
   "source": [
    "## Modelling and validation\n",
    "\n",
    "In this section, I will run multiple different classifers while using a gridsearch for hyperparameter tunning."
   ]
  },
  {
   "cell_type": "code",
   "execution_count": 1,
   "id": "cb5e1ab9",
   "metadata": {},
   "outputs": [],
   "source": [
    "# model_results = []"
   ]
  },
  {
   "cell_type": "code",
   "execution_count": 2,
   "id": "16845e04",
   "metadata": {},
   "outputs": [],
   "source": [
    "# model_results_df = pd.DataFrame(data=model_results, \n",
    "#                                 columns=['model', 'f1_score_0', 'f1_score_1', 'accuracy', 'macro_avg', 'weighted_avg'])"
   ]
  },
  {
   "cell_type": "code",
   "execution_count": 3,
   "id": "e15bf803",
   "metadata": {},
   "outputs": [],
   "source": [
    "# model_results_df"
   ]
  },
  {
   "cell_type": "code",
   "execution_count": 4,
   "id": "f7324311",
   "metadata": {},
   "outputs": [],
   "source": [
    "# grid = joblib.load('knn.pkl')\n",
    "# preds = grid.predict(X_val)\n",
    "# results = pd.DataFrame(classification_report(y_val, preds,output_dict=True))\n",
    "# f1 = ['knn']\n",
    "# for i in np.array(results.loc['f1-score']):\n",
    "#     f1.append(i)\n",
    "# model_results.append(f1)"
   ]
  },
  {
   "cell_type": "code",
   "execution_count": null,
   "id": "86333c97",
   "metadata": {},
   "outputs": [],
   "source": []
  },
  {
   "cell_type": "markdown",
   "id": "d6b856c1",
   "metadata": {},
   "source": [
    "## Logistic Regression "
   ]
  },
  {
   "cell_type": "code",
   "execution_count": 13,
   "id": "541558a2",
   "metadata": {},
   "outputs": [],
   "source": [
    "model = LogisticRegression()"
   ]
  },
  {
   "cell_type": "code",
   "execution_count": 14,
   "id": "9b7e52c8",
   "metadata": {},
   "outputs": [],
   "source": [
    "param_grid = {'clf__penalty': ['l1'],\n",
    "             'clf__C': [1],\n",
    "             'clf__solver': ['saga'],\n",
    "             'clf__max_iter': [1000],\n",
    "             'clf__multi_class' : ['ovr', 'multinomial'],\n",
    "             'clf__n_jobs' : [-1]}"
   ]
  },
  {
   "cell_type": "code",
   "execution_count": 15,
   "id": "cab83bd6",
   "metadata": {},
   "outputs": [],
   "source": [
    "pipe = Pipeline([('scaler', StandardScaler()),\n",
    "                 ('clf', model)\n",
    "                ])"
   ]
  },
  {
   "cell_type": "code",
   "execution_count": 16,
   "id": "935944b2",
   "metadata": {},
   "outputs": [],
   "source": [
    "grid = GridSearchCV(pipe, param_grid, cv=5, scoring='balanced_accuracy', n_jobs=6, verbose=0)"
   ]
  },
  {
   "cell_type": "code",
   "execution_count": 17,
   "id": "8e8608ff",
   "metadata": {},
   "outputs": [
    {
     "name": "stderr",
     "output_type": "stream",
     "text": [
      "C:\\Users\\kaile_000\\anaconda3\\lib\\site-packages\\sklearn\\model_selection\\_search.py:922: UserWarning: One or more of the test scores are non-finite: [nan nan]\n",
      "  warnings.warn(\n",
      "C:\\Users\\kaile_000\\anaconda3\\lib\\site-packages\\sklearn\\linear_model\\_sag.py:328: ConvergenceWarning: The max_iter was reached which means the coef_ did not converge\n",
      "  warnings.warn(\"The max_iter was reached which means \"\n"
     ]
    },
    {
     "name": "stdout",
     "output_type": "stream",
     "text": [
      "7:33:44.018994\n"
     ]
    }
   ],
   "source": [
    "start=datetime.now()\n",
    "grid.fit(X_train,y_train)\n",
    "print(datetime.now()-start)"
   ]
  },
  {
   "cell_type": "code",
   "execution_count": 18,
   "id": "c409f420",
   "metadata": {},
   "outputs": [
    {
     "name": "stdout",
     "output_type": "stream",
     "text": [
      "              precision    recall  f1-score   support\n",
      "\n",
      "           0       0.85      0.75      0.80     40403\n",
      "           1       0.92      0.83      0.87    131132\n",
      "           2       0.88      0.98      0.92    161395\n",
      "\n",
      "    accuracy                           0.89    332930\n",
      "   macro avg       0.88      0.85      0.87    332930\n",
      "weighted avg       0.89      0.89      0.89    332930\n",
      "\n"
     ]
    },
    {
     "data": {
      "image/png": "[encoded data removed]",
      "text/plain": [
       "<Figure size 432x288 with 2 Axes>"
      ]
     },
     "metadata": {
      "needs_background": "light"
     },
     "output_type": "display_data"
    }
   ],
   "source": [
    "preds = grid.predict(X_val)\n",
    "plot_confusion_matrix(grid, X_val, y_val)\n",
    "print(classification_report(y_val, preds))"
   ]
  },
  {
   "cell_type": "code",
   "execution_count": 20,
   "id": "74956701",
   "metadata": {},
   "outputs": [
    {
     "data": {
      "text/plain": [
       "['logistic_regression_cv_results_final.pkl']"
      ]
     },
     "execution_count": 20,
     "metadata": {},
     "output_type": "execute_result"
    }
   ],
   "source": [
    "joblib.dump(grid, 'logistic_regression_final.pkl')\n",
    "joblib.dump(grid.best_params_, 'logistic_regression_best_params_final.pkl')\n",
    "logistic_regression_cv_results = pd.DataFrame(grid.cv_results_)\n",
    "joblib.dump(logistic_regression_cv_results, 'logistic_regression_cv_results_final.pkl')"
   ]
  },
  {
   "cell_type": "code",
   "execution_count": 22,
   "id": "247d8749",
   "metadata": {},
   "outputs": [
    {
     "data": {
      "text/plain": [
       "Pipeline(steps=[('scaler', StandardScaler()),\n",
       "                ('clf',\n",
       "                 LogisticRegression(C=1, max_iter=1000, multi_class='ovr',\n",
       "                                    n_jobs=-1, penalty='l1', solver='saga'))])"
      ]
     },
     "execution_count": 22,
     "metadata": {},
     "output_type": "execute_result"
    }
   ],
   "source": [
    "grid.best_estimator_"
   ]
  },
  {
   "cell_type": "code",
   "execution_count": null,
   "id": "64b03f66",
   "metadata": {},
   "outputs": [],
   "source": []
  },
  {
   "cell_type": "code",
   "execution_count": 39,
   "id": "635b4e88",
   "metadata": {},
   "outputs": [],
   "source": [
    "model = LogisticRegression()"
   ]
  },
  {
   "cell_type": "code",
   "execution_count": 45,
   "id": "89bd287e",
   "metadata": {},
   "outputs": [],
   "source": [
    "def _compute_class_weight_dictionary(df):\n",
    "    # helper for returning a dictionary instead of an array\n",
    "    classes = np.unique(df['loan_status'])\n",
    "    class_weight = compute_class_weight(\"balanced\", np.unique(df['loan_status']), np.array(df['loan_status']))\n",
    "    class_weight_dict = dict(zip(classes, class_weight))\n",
    "    return class_weight_dict "
   ]
  },
  {
   "cell_type": "code",
   "execution_count": 46,
   "id": "3304fed5",
   "metadata": {},
   "outputs": [],
   "source": [
    "weights = _compute_class_weight_dictionary(df)"
   ]
  },
  {
   "cell_type": "code",
   "execution_count": 47,
   "id": "3cf6bdf7",
   "metadata": {},
   "outputs": [
    {
     "data": {
      "text/plain": [
       "{0: 2.7586755062369184, 1: 0.8444238747005847, 2: 0.6881044081160154}"
      ]
     },
     "execution_count": 47,
     "metadata": {},
     "output_type": "execute_result"
    }
   ],
   "source": [
    "weights"
   ]
  },
  {
   "cell_type": "code",
   "execution_count": 48,
   "id": "c09c9b33",
   "metadata": {},
   "outputs": [],
   "source": [
    "param_grid = {'clf__penalty': ['l1', 'l2', 'elasticnet'],\n",
    "             'clf__C': [0.001, 0.01 , 0.1, 1],\n",
    "             'clf__l1_ratio': [0.1, 0.3, 0.5, 0.7, 0.9],\n",
    "             'clf__solver': ['saga'],\n",
    "             'clf__multi_class' : ['ovr'],\n",
    "             'clf__max_iter': [5000],\n",
    "             'clf__n_jobs' : [-1],\n",
    "             'clf__warm_start' : ['True'],\n",
    "             'clf__class_weight' : [weights],\n",
    "             'clf__random_state' : [42]}"
   ]
  },
  {
   "cell_type": "code",
   "execution_count": 49,
   "id": "44aa1a32",
   "metadata": {},
   "outputs": [],
   "source": [
    "pipe = Pipeline([('scaler', StandardScaler()),\n",
    "                 ('clf', model)\n",
    "                ])"
   ]
  },
  {
   "cell_type": "code",
   "execution_count": 50,
   "id": "aed428ec",
   "metadata": {},
   "outputs": [],
   "source": [
    "grid = GridSearchCV(pipe, param_grid, cv=5, scoring='balanced_accuracy', n_jobs=6, verbose=0, error_score='raise')"
   ]
  },
  {
   "cell_type": "code",
   "execution_count": 51,
   "id": "90ff8b27",
   "metadata": {},
   "outputs": [
    {
     "name": "stderr",
     "output_type": "stream",
     "text": [
      "C:\\Users\\kaile_000\\anaconda3\\lib\\site-packages\\sklearn\\linear_model\\_logistic.py:1317: UserWarning: l1_ratio parameter is only used when penalty is 'elasticnet'. Got (penalty=l1)\n",
      "  warnings.warn(\"l1_ratio parameter is only used when penalty is \"\n"
     ]
    },
    {
     "name": "stdout",
     "output_type": "stream",
     "text": [
      "9 days, 21:45:45.487372\n"
     ]
    }
   ],
   "source": [
    "start=datetime.now()\n",
    "grid.fit(X_train,y_train)\n",
    "print(datetime.now()-start)"
   ]
  },
  {
   "cell_type": "code",
   "execution_count": 52,
   "id": "f63e9f2d",
   "metadata": {},
   "outputs": [
    {
     "name": "stdout",
     "output_type": "stream",
     "text": [
      "              precision    recall  f1-score   support\n",
      "\n",
      "           0       0.69      0.91      0.79     40403\n",
      "           1       0.95      0.80      0.87    131132\n",
      "           2       0.89      0.94      0.91    161395\n",
      "\n",
      "    accuracy                           0.88    332930\n",
      "   macro avg       0.85      0.88      0.86    332930\n",
      "weighted avg       0.89      0.88      0.88    332930\n",
      "\n"
     ]
    },
    {
     "data": {
      "image/png": "[encoded data removed]",
      "text/plain": [
       "<Figure size 432x288 with 2 Axes>"
      ]
     },
     "metadata": {
      "needs_background": "light"
     },
     "output_type": "display_data"
    }
   ],
   "source": [
    "preds = grid.predict(X_val)\n",
    "plot_confusion_matrix(grid, X_val, y_val)\n",
    "print(classification_report(y_val, preds))"
   ]
  },
  {
   "cell_type": "code",
   "execution_count": 53,
   "id": "eea24ad3",
   "metadata": {},
   "outputs": [
    {
     "data": {
      "text/plain": [
       "{'clf__C': 1,\n",
       " 'clf__class_weight': {0: 2.7586755062369184,\n",
       "  1: 0.8444238747005847,\n",
       "  2: 0.6881044081160154},\n",
       " 'clf__l1_ratio': 0.1,\n",
       " 'clf__max_iter': 5000,\n",
       " 'clf__multi_class': 'ovr',\n",
       " 'clf__n_jobs': -1,\n",
       " 'clf__penalty': 'l1',\n",
       " 'clf__random_state': 42,\n",
       " 'clf__solver': 'saga',\n",
       " 'clf__warm_start': 'True'}"
      ]
     },
     "execution_count": 53,
     "metadata": {},
     "output_type": "execute_result"
    }
   ],
   "source": [
    "grid.best_params_"
   ]
  },
  {
   "cell_type": "code",
   "execution_count": 54,
   "id": "27f4c07a",
   "metadata": {},
   "outputs": [
    {
     "data": {
      "text/plain": [
       "['logistic_regression.pkl']"
      ]
     },
     "execution_count": 54,
     "metadata": {},
     "output_type": "execute_result"
    }
   ],
   "source": [
    "joblib.dump(grid, 'logistic_regression.pkl')"
   ]
  },
  {
   "cell_type": "code",
   "execution_count": 55,
   "id": "9c43900e",
   "metadata": {},
   "outputs": [
    {
     "data": {
      "text/plain": [
       "['logistic_regression_best_params.pkl']"
      ]
     },
     "execution_count": 55,
     "metadata": {},
     "output_type": "execute_result"
    }
   ],
   "source": [
    "joblib.dump(grid.best_params_, 'logistic_regression_best_params.pkl')"
   ]
  },
  {
   "cell_type": "code",
   "execution_count": 56,
   "id": "e37e56ee",
   "metadata": {},
   "outputs": [],
   "source": [
    "logistic_regression_cv_results = pd.DataFrame(grid.cv_results_)"
   ]
  },
  {
   "cell_type": "code",
   "execution_count": 57,
   "id": "6cbd14bd",
   "metadata": {},
   "outputs": [
    {
     "data": {
      "text/plain": [
       "['logistic_regression_cv_results.pkl']"
      ]
     },
     "execution_count": 57,
     "metadata": {},
     "output_type": "execute_result"
    }
   ],
   "source": [
    "joblib.dump(logistic_regression_cv_results, 'logistic_regression_cv_results.pkl')"
   ]
  },
  {
   "cell_type": "markdown",
   "id": "2e7268b1",
   "metadata": {},
   "source": [
    "## Random Forest Classifier"
   ]
  },
  {
   "cell_type": "markdown",
   "id": "4d22e7b9",
   "metadata": {},
   "source": [
    "We will do our hyperparameter search based off the best params that we obtained previously from Part 4."
   ]
  },
  {
   "cell_type": "code",
   "execution_count": 58,
   "id": "639a90cf",
   "metadata": {},
   "outputs": [],
   "source": [
    "def _compute_class_weight_dictionary(df):\n",
    "    # helper for returning a dictionary instead of an array\n",
    "    classes = np.unique(df['loan_status'])\n",
    "    class_weight = compute_class_weight(\"balanced\", np.unique(df['loan_status']), np.array(df['loan_status']))\n",
    "    class_weight_dict = dict(zip(classes, class_weight))\n",
    "    return class_weight_dict "
   ]
  },
  {
   "cell_type": "code",
   "execution_count": 59,
   "id": "8de652d0",
   "metadata": {},
   "outputs": [
    {
     "name": "stderr",
     "output_type": "stream",
     "text": [
      "C:\\Users\\kaile_000\\anaconda3\\lib\\site-packages\\sklearn\\utils\\validation.py:70: FutureWarning: Pass classes=[0 1 2], y=[2 2 2 ... 1 0 1] as keyword args. From version 1.0 (renaming of 0.25) passing these as positional arguments will result in an error\n",
      "  warnings.warn(f\"Pass {args_msg} as keyword args. From version \"\n"
     ]
    }
   ],
   "source": [
    "weights = _compute_class_weight_dictionary(df)"
   ]
  },
  {
   "cell_type": "code",
   "execution_count": 60,
   "id": "53d43c1e",
   "metadata": {},
   "outputs": [
    {
     "data": {
      "text/plain": [
       "{0: 2.7586755062369184, 1: 0.8444238747005847, 2: 0.6881044081160154}"
      ]
     },
     "execution_count": 60,
     "metadata": {},
     "output_type": "execute_result"
    }
   ],
   "source": [
    "weights"
   ]
  },
  {
   "cell_type": "code",
   "execution_count": 67,
   "id": "1e3d7be9",
   "metadata": {},
   "outputs": [],
   "source": [
    "model = RandomForestClassifier()"
   ]
  },
  {
   "cell_type": "code",
   "execution_count": 68,
   "id": "a8260a03",
   "metadata": {},
   "outputs": [],
   "source": [
    "param_grid = {'clf__n_estimators': [300],\n",
    "             'clf__max_depth': [15],\n",
    "             'clf__max_features': [28],\n",
    "             'clf__bootstrap': ['True'],\n",
    "             'clf__criterion': ['gini'],\n",
    "             'clf__n_jobs' : [-1],\n",
    "             'clf__warm_start' : ['False'],\n",
    "             'clf__class_weight' : [weights],\n",
    "             'clf__random_state' : [42]}"
   ]
  },
  {
   "cell_type": "code",
   "execution_count": 69,
   "id": "23919b89",
   "metadata": {},
   "outputs": [],
   "source": [
    "pipe = Pipeline([('scaler', StandardScaler()),\n",
    "                 ('clf', model)\n",
    "                ])"
   ]
  },
  {
   "cell_type": "code",
   "execution_count": 70,
   "id": "59751cd2",
   "metadata": {},
   "outputs": [],
   "source": [
    "grid = GridSearchCV(pipe, param_grid, cv=5, scoring='balanced_accuracy', verbose=0, n_jobs=-1)"
   ]
  },
  {
   "cell_type": "code",
   "execution_count": 71,
   "id": "9389c773",
   "metadata": {},
   "outputs": [
    {
     "name": "stdout",
     "output_type": "stream",
     "text": [
      "1:14:43.800656\n"
     ]
    }
   ],
   "source": [
    "start=datetime.now()\n",
    "grid.fit(X_train,y_train)\n",
    "print(datetime.now()-start)"
   ]
  },
  {
   "cell_type": "code",
   "execution_count": 72,
   "id": "aac0370f",
   "metadata": {},
   "outputs": [
    {
     "name": "stdout",
     "output_type": "stream",
     "text": [
      "              precision    recall  f1-score   support\n",
      "\n",
      "           0       0.77      0.89      0.83     40403\n",
      "           1       0.97      0.83      0.89    131132\n",
      "           2       0.91      0.98      0.94    161395\n",
      "\n",
      "    accuracy                           0.91    332930\n",
      "   macro avg       0.88      0.90      0.89    332930\n",
      "weighted avg       0.91      0.91      0.91    332930\n",
      "\n"
     ]
    },
    {
     "data": {
      "image/png": "[encoded data removed]",
      "text/plain": [
       "<Figure size 432x288 with 2 Axes>"
      ]
     },
     "metadata": {
      "needs_background": "light"
     },
     "output_type": "display_data"
    }
   ],
   "source": [
    "preds = grid.predict(X_val)\n",
    "plot_confusion_matrix(grid, X_val, y_val)\n",
    "print(classification_report(y_val, preds))"
   ]
  },
  {
   "cell_type": "code",
   "execution_count": 73,
   "id": "0e54f05c",
   "metadata": {},
   "outputs": [
    {
     "data": {
      "text/plain": [
       "['random_forest.pkl']"
      ]
     },
     "execution_count": 73,
     "metadata": {},
     "output_type": "execute_result"
    }
   ],
   "source": [
    "joblib.dump(grid, 'random_forest.pkl')"
   ]
  },
  {
   "cell_type": "code",
   "execution_count": 40,
   "id": "953ee1a6",
   "metadata": {},
   "outputs": [],
   "source": [
    "preds = grid.predict(X_val)\n",
    "results = pd.DataFrame(classification_report(y_val, preds,output_dict=True))\n",
    "f1 = ['random_forest']\n",
    "for i in np.array(results.loc['f1-score']):\n",
    "    f1.append(i)\n",
    "model_results.append(f1)"
   ]
  },
  {
   "cell_type": "code",
   "execution_count": 43,
   "id": "aea50321",
   "metadata": {},
   "outputs": [
    {
     "data": {
      "text/plain": [
       "['random_forest_best_params.pkl']"
      ]
     },
     "execution_count": 43,
     "metadata": {},
     "output_type": "execute_result"
    }
   ],
   "source": [
    "joblib.dump(grid, 'random_forest.pkl')\n",
    "model_cv_results = pd.DataFrame(grid.cv_results_)\n",
    "joblib.dump(model_cv_results, 'random_forest_cv_results.pkl')\n",
    "joblib.dump(grid.best_params_, 'random_forest_best_params.pkl')"
   ]
  },
  {
   "cell_type": "markdown",
   "id": "6e933d50",
   "metadata": {},
   "source": [
    "## AdaBoost with strongest feature predictor"
   ]
  },
  {
   "cell_type": "markdown",
   "id": "e62c16fc",
   "metadata": {},
   "source": [
    "We will use the same best params that we obtained previously from Part 4."
   ]
  },
  {
   "cell_type": "code",
   "execution_count": 74,
   "id": "cab44ea9",
   "metadata": {},
   "outputs": [],
   "source": [
    "model = AdaBoostClassifier()"
   ]
  },
  {
   "cell_type": "code",
   "execution_count": 75,
   "id": "35026d6b",
   "metadata": {},
   "outputs": [],
   "source": [
    "param_grid = {'clf__n_estimators': [30000],\n",
    "             'clf__learning_rate' : [1],\n",
    "             'clf__random_state' : [42]}"
   ]
  },
  {
   "cell_type": "code",
   "execution_count": 76,
   "id": "d58a55b8",
   "metadata": {},
   "outputs": [],
   "source": [
    "pipe = Pipeline([('scaler', StandardScaler()),\n",
    "                 ('clf', model)\n",
    "                ])"
   ]
  },
  {
   "cell_type": "code",
   "execution_count": 77,
   "id": "36daf465",
   "metadata": {},
   "outputs": [],
   "source": [
    "grid = GridSearchCV(pipe, param_grid, cv=5, scoring='balanced_accuracy', verbose=0, n_jobs=-1)"
   ]
  },
  {
   "cell_type": "code",
   "execution_count": 78,
   "id": "485a2970",
   "metadata": {},
   "outputs": [
    {
     "name": "stdout",
     "output_type": "stream",
     "text": [
      "6 days, 2:51:05.262598\n"
     ]
    }
   ],
   "source": [
    "start=datetime.now()\n",
    "grid.fit(X_train,y_train)\n",
    "print(datetime.now()-start)"
   ]
  },
  {
   "cell_type": "code",
   "execution_count": 79,
   "id": "936e42fc",
   "metadata": {},
   "outputs": [
    {
     "name": "stdout",
     "output_type": "stream",
     "text": [
      "              precision    recall  f1-score   support\n",
      "\n",
      "           0       0.43      0.89      0.58     40403\n",
      "           1       0.88      0.58      0.69    131132\n",
      "           2       0.93      0.94      0.93    161395\n",
      "\n",
      "    accuracy                           0.79    332930\n",
      "   macro avg       0.75      0.80      0.74    332930\n",
      "weighted avg       0.85      0.79      0.80    332930\n",
      "\n"
     ]
    },
    {
     "data": {
      "image/png": "[encoded data removed]",
      "text/plain": [
       "<Figure size 432x288 with 2 Axes>"
      ]
     },
     "metadata": {
      "needs_background": "light"
     },
     "output_type": "display_data"
    }
   ],
   "source": [
    "preds = grid.predict(X_val)\n",
    "plot_confusion_matrix(grid, X_val, y_val)\n",
    "print(classification_report(y_val, preds))"
   ]
  },
  {
   "cell_type": "code",
   "execution_count": 80,
   "id": "968ad261",
   "metadata": {},
   "outputs": [
    {
     "data": {
      "text/plain": [
       "['adaboost.pkl']"
      ]
     },
     "execution_count": 80,
     "metadata": {},
     "output_type": "execute_result"
    }
   ],
   "source": [
    "joblib.dump(grid, 'adaboost.pkl')"
   ]
  },
  {
   "cell_type": "markdown",
   "id": "82997a4f",
   "metadata": {},
   "source": [
    "### Other models are currently calculating on an older PC and the results will be appended as they are completed"
   ]
  },
  {
   "cell_type": "code",
   "execution_count": null,
   "id": "e4eba554",
   "metadata": {},
   "outputs": [],
   "source": []
  }
 ],
 "metadata": {
  "kernelspec": {
   "display_name": "Python 3 (ipykernel)",
   "language": "python",
   "name": "python3"
  },
  "language_info": {
   "codemirror_mode": {
    "name": "ipython",
    "version": 3
   },
   "file_extension": ".py",
   "mimetype": "text/x-python",
   "name": "python",
   "nbconvert_exporter": "python",
   "pygments_lexer": "ipython3",
   "version": "3.9.7"
  }
 },
 "nbformat": 4,
 "nbformat_minor": 5
}
